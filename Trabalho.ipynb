{
 "cells": [
  {
   "cell_type": "markdown",
   "id": "b128197a",
   "metadata": {},
   "source": [
    "# Trabalho\n",
    "\n",
    "Integrantes do grupo\n",
    "\n",
    "\n",
    "1. Entender o problema (objetivo) \n",
    "\n",
    "2. Entender os dados (usar a estatística para isso)\n",
    "\n",
    "    - Descrever as colunas\n",
    "    - Tem dado faltante?\n",
    "    - Quantas colunas numéricas (quantitativas) e quantas categóricas (qualitativas)? Classifique\n",
    "    - Calcular média, mediana, desvio padrão, quartis, percentis, assimetria, moda, correlação\n",
    "    - Identificar os outliers\n",
    "    - Criar gráficos para fazer a visualização dos dados\n",
    "\n",
    "3. Limpar os dados (preparar os dados)\n",
    "\n",
    "4. Escolher uma coluna para analisar a data (datetime)\n",
    "\n",
    "5. Conclusão sobre os dados"
   ]
  },
  {
   "cell_type": "markdown",
   "id": "02f327e5",
   "metadata": {},
   "source": [
    "# Entrega dia 22/05\n",
    "\n",
    "Enviar link do github pelo class ou enviar o notebook pelo class.\n",
    "\n",
    "Qualquer dúvida: renata.marchese@ada.tech"
   ]
  },
  {
   "cell_type": "code",
   "execution_count": 1,
   "id": "fea3dbd0",
   "metadata": {},
   "outputs": [],
   "source": [
    "import pandas as pd"
   ]
  },
  {
   "cell_type": "code",
   "execution_count": 2,
   "id": "49cf9b30",
   "metadata": {},
   "outputs": [],
   "source": [
    "df = pd.read_excel(\"rfv_analise.xlsx\")"
   ]
  },
  {
   "cell_type": "code",
   "execution_count": 3,
   "id": "9935736c",
   "metadata": {},
   "outputs": [
    {
     "data": {
      "text/html": [
       "<div>\n",
       "<style scoped>\n",
       "    .dataframe tbody tr th:only-of-type {\n",
       "        vertical-align: middle;\n",
       "    }\n",
       "\n",
       "    .dataframe tbody tr th {\n",
       "        vertical-align: top;\n",
       "    }\n",
       "\n",
       "    .dataframe thead th {\n",
       "        text-align: right;\n",
       "    }\n",
       "</style>\n",
       "<table border=\"1\" class=\"dataframe\">\n",
       "  <thead>\n",
       "    <tr style=\"text-align: right;\">\n",
       "      <th></th>\n",
       "      <th>Rede</th>\n",
       "      <th>UF</th>\n",
       "      <th>BU</th>\n",
       "      <th>BU New</th>\n",
       "      <th>Canal VD-VI-Hosp</th>\n",
       "      <th>Ano</th>\n",
       "      <th>Trimestre</th>\n",
       "      <th>Mês</th>\n",
       "      <th>Entregue - Liq Abatimento</th>\n",
       "      <th>Qtd Entregue</th>\n",
       "    </tr>\n",
       "  </thead>\n",
       "  <tbody>\n",
       "    <tr>\n",
       "      <th>85797</th>\n",
       "      <td>CIRURGICA MONTEBELLO LTDA</td>\n",
       "      <td>PE</td>\n",
       "      <td>MARCAS</td>\n",
       "      <td>SANOFI PP</td>\n",
       "      <td>HOSPITALAR</td>\n",
       "      <td>2022</td>\n",
       "      <td>4 TRIMESTRE</td>\n",
       "      <td>DEZEMBRO</td>\n",
       "      <td>0.0</td>\n",
       "      <td>0.0</td>\n",
       "    </tr>\n",
       "    <tr>\n",
       "      <th>85798</th>\n",
       "      <td>CIRURGICA MONTEBELLO LTDA</td>\n",
       "      <td>PE</td>\n",
       "      <td>MARCAS</td>\n",
       "      <td>TAKEDA CH</td>\n",
       "      <td>HOSPITALAR</td>\n",
       "      <td>2022</td>\n",
       "      <td>4 TRIMESTRE</td>\n",
       "      <td>DEZEMBRO</td>\n",
       "      <td>0.0</td>\n",
       "      <td>0.0</td>\n",
       "    </tr>\n",
       "    <tr>\n",
       "      <th>85799</th>\n",
       "      <td>CIRURGICA MONTEBELLO LTDA</td>\n",
       "      <td>PE</td>\n",
       "      <td>MARCAS</td>\n",
       "      <td>TAKEDA PP</td>\n",
       "      <td>HOSPITALAR</td>\n",
       "      <td>2022</td>\n",
       "      <td>4 TRIMESTRE</td>\n",
       "      <td>DEZEMBRO</td>\n",
       "      <td>0.0</td>\n",
       "      <td>0.0</td>\n",
       "    </tr>\n",
       "    <tr>\n",
       "      <th>85800</th>\n",
       "      <td>CIRURGICA MONTEBELLO LTDA</td>\n",
       "      <td>PE</td>\n",
       "      <td>SMART</td>\n",
       "      <td>INSTITUCIONAL</td>\n",
       "      <td>HOSPITALAR</td>\n",
       "      <td>2022</td>\n",
       "      <td>4 TRIMESTRE</td>\n",
       "      <td>DEZEMBRO</td>\n",
       "      <td>0.0</td>\n",
       "      <td>0.0</td>\n",
       "    </tr>\n",
       "    <tr>\n",
       "      <th>85801</th>\n",
       "      <td>CIRURGICA MONTEBELLO LTDA</td>\n",
       "      <td>PE</td>\n",
       "      <td>SMART</td>\n",
       "      <td>SMART GENERICS</td>\n",
       "      <td>HOSPITALAR</td>\n",
       "      <td>2022</td>\n",
       "      <td>4 TRIMESTRE</td>\n",
       "      <td>DEZEMBRO</td>\n",
       "      <td>0.0</td>\n",
       "      <td>0.0</td>\n",
       "    </tr>\n",
       "  </tbody>\n",
       "</table>\n",
       "</div>"
      ],
      "text/plain": [
       "                            Rede  UF      BU          BU New Canal VD-VI-Hosp   \n",
       "85797  CIRURGICA MONTEBELLO LTDA  PE  MARCAS       SANOFI PP       HOSPITALAR  \\\n",
       "85798  CIRURGICA MONTEBELLO LTDA  PE  MARCAS       TAKEDA CH       HOSPITALAR   \n",
       "85799  CIRURGICA MONTEBELLO LTDA  PE  MARCAS       TAKEDA PP       HOSPITALAR   \n",
       "85800  CIRURGICA MONTEBELLO LTDA  PE   SMART   INSTITUCIONAL       HOSPITALAR   \n",
       "85801  CIRURGICA MONTEBELLO LTDA  PE   SMART  SMART GENERICS       HOSPITALAR   \n",
       "\n",
       "        Ano    Trimestre       Mês  Entregue - Liq Abatimento  Qtd Entregue  \n",
       "85797  2022  4 TRIMESTRE  DEZEMBRO                        0.0           0.0  \n",
       "85798  2022  4 TRIMESTRE  DEZEMBRO                        0.0           0.0  \n",
       "85799  2022  4 TRIMESTRE  DEZEMBRO                        0.0           0.0  \n",
       "85800  2022  4 TRIMESTRE  DEZEMBRO                        0.0           0.0  \n",
       "85801  2022  4 TRIMESTRE  DEZEMBRO                        0.0           0.0  "
      ]
     },
     "execution_count": 3,
     "metadata": {},
     "output_type": "execute_result"
    }
   ],
   "source": [
    "df.tail(5)"
   ]
  },
  {
   "cell_type": "markdown",
   "id": "ff04f61b",
   "metadata": {},
   "source": [
    "1. Entender o problema (objetivo): Realizar análise de RFV dos clientes HyperaPharma\n",
    "2. Entender os dados (usar a estatística para isso)\n",
    "\n",
    "    - Descrever as colunas \n",
    "\n",
    "        * Rede: Cliente\n",
    "        * UF: Estado\n",
    "        * BU: Unidade de Negócio\n",
    "        * BU New: \"Subdivisão\" da unidade de negócio \n",
    "        * Canal VD-VI-Hosp: Canal de distribuição\n",
    "        * Entregue - Liq Abatimento: Valor faturado entregue ao cliente\n",
    "        * Qtd Entregue: Unidades (cx)\n",
    "\n",
    "    - Tem dado faltante? Não\n"
   ]
  },
  {
   "cell_type": "code",
   "execution_count": 5,
   "id": "e50e48e6",
   "metadata": {},
   "outputs": [
    {
     "data": {
      "text/html": [
       "<div>\n",
       "<style scoped>\n",
       "    .dataframe tbody tr th:only-of-type {\n",
       "        vertical-align: middle;\n",
       "    }\n",
       "\n",
       "    .dataframe tbody tr th {\n",
       "        vertical-align: top;\n",
       "    }\n",
       "\n",
       "    .dataframe thead th {\n",
       "        text-align: right;\n",
       "    }\n",
       "</style>\n",
       "<table border=\"1\" class=\"dataframe\">\n",
       "  <thead>\n",
       "    <tr style=\"text-align: right;\">\n",
       "      <th></th>\n",
       "      <th>Ano</th>\n",
       "      <th>Entregue - Liq Abatimento</th>\n",
       "      <th>Qtd Entregue</th>\n",
       "    </tr>\n",
       "  </thead>\n",
       "  <tbody>\n",
       "    <tr>\n",
       "      <th>count</th>\n",
       "      <td>85802.000000</td>\n",
       "      <td>8.580200e+04</td>\n",
       "      <td>8.580200e+04</td>\n",
       "    </tr>\n",
       "    <tr>\n",
       "      <th>mean</th>\n",
       "      <td>2020.220414</td>\n",
       "      <td>3.146182e+05</td>\n",
       "      <td>2.961350e+04</td>\n",
       "    </tr>\n",
       "    <tr>\n",
       "      <th>std</th>\n",
       "      <td>1.443721</td>\n",
       "      <td>9.042335e+05</td>\n",
       "      <td>1.060139e+05</td>\n",
       "    </tr>\n",
       "    <tr>\n",
       "      <th>min</th>\n",
       "      <td>2018.000000</td>\n",
       "      <td>-8.726862e+05</td>\n",
       "      <td>0.000000e+00</td>\n",
       "    </tr>\n",
       "    <tr>\n",
       "      <th>25%</th>\n",
       "      <td>2019.000000</td>\n",
       "      <td>3.131500e+03</td>\n",
       "      <td>1.200000e+02</td>\n",
       "    </tr>\n",
       "    <tr>\n",
       "      <th>50%</th>\n",
       "      <td>2020.000000</td>\n",
       "      <td>4.536365e+04</td>\n",
       "      <td>2.227500e+03</td>\n",
       "    </tr>\n",
       "    <tr>\n",
       "      <th>75%</th>\n",
       "      <td>2022.000000</td>\n",
       "      <td>2.568184e+05</td>\n",
       "      <td>1.797000e+04</td>\n",
       "    </tr>\n",
       "    <tr>\n",
       "      <th>max</th>\n",
       "      <td>2022.000000</td>\n",
       "      <td>4.146517e+07</td>\n",
       "      <td>5.033553e+06</td>\n",
       "    </tr>\n",
       "  </tbody>\n",
       "</table>\n",
       "</div>"
      ],
      "text/plain": [
       "                Ano  Entregue - Liq Abatimento  Qtd Entregue\n",
       "count  85802.000000               8.580200e+04  8.580200e+04\n",
       "mean    2020.220414               3.146182e+05  2.961350e+04\n",
       "std        1.443721               9.042335e+05  1.060139e+05\n",
       "min     2018.000000              -8.726862e+05  0.000000e+00\n",
       "25%     2019.000000               3.131500e+03  1.200000e+02\n",
       "50%     2020.000000               4.536365e+04  2.227500e+03\n",
       "75%     2022.000000               2.568184e+05  1.797000e+04\n",
       "max     2022.000000               4.146517e+07  5.033553e+06"
      ]
     },
     "execution_count": 5,
     "metadata": {},
     "output_type": "execute_result"
    }
   ],
   "source": [
    "df.describe()"
   ]
  },
  {
   "cell_type": "code",
   "execution_count": 4,
   "id": "a79fbe47",
   "metadata": {},
   "outputs": [
    {
     "data": {
      "text/plain": [
       "Rede                         0\n",
       "UF                           0\n",
       "BU                           0\n",
       "BU New                       0\n",
       "Canal VD-VI-Hosp             0\n",
       "Ano                          0\n",
       "Trimestre                    0\n",
       "Mês                          0\n",
       "Entregue - Liq Abatimento    0\n",
       "Qtd Entregue                 0\n",
       "dtype: int64"
      ]
     },
     "execution_count": 4,
     "metadata": {},
     "output_type": "execute_result"
    }
   ],
   "source": [
    "qtd_nulos = df.isnull().sum()\n",
    "qtd_nulos"
   ]
  },
  {
   "cell_type": "markdown",
   "id": "4878dc17",
   "metadata": {},
   "source": [
    "    - Quantas colunas numéricas (quantitativas) e quantas categóricas (qualitativas)? Classifique\n",
    "      \n",
    "        * Rede: Qualitativa nominal\n",
    "        * UF: Qualitativa nominal\n",
    "        * BU: Qualitativa nominal\n",
    "        * BU New: Qualitativa nominal \n",
    "        * Canal VD-VI-Hosp: Qualitativa nominal\n",
    "        * Ano: Qualitativa ordinal\n",
    "        * Trimestre: Qualitativa ordinal\n",
    "        * Mês: Qualitativa ordinal\n",
    "        * Entregue - Liq Abatimento: Quantitativa continua\n",
    "        * Qtd Entregue:  Quantitativa continua\n"
   ]
  },
  {
   "cell_type": "code",
   "execution_count": 17,
   "id": "2b84db48",
   "metadata": {},
   "outputs": [
    {
     "name": "stdout",
     "output_type": "stream",
     "text": [
      "<class 'pandas.core.frame.DataFrame'>\n",
      "RangeIndex: 85802 entries, 0 to 85801\n",
      "Data columns (total 10 columns):\n",
      " #   Column                     Non-Null Count  Dtype  \n",
      "---  ------                     --------------  -----  \n",
      " 0   Rede                       85802 non-null  object \n",
      " 1   UF                         85802 non-null  object \n",
      " 2   BU                         85802 non-null  object \n",
      " 3   BU New                     85802 non-null  object \n",
      " 4   Canal VD-VI-Hosp           85802 non-null  object \n",
      " 5   Ano                        85802 non-null  int64  \n",
      " 6   Trimestre                  85802 non-null  object \n",
      " 7   Mês                        85802 non-null  object \n",
      " 8   Entregue - Liq Abatimento  85802 non-null  float64\n",
      " 9   Qtd Entregue               85802 non-null  float64\n",
      "dtypes: float64(2), int64(1), object(7)\n",
      "memory usage: 6.5+ MB\n"
     ]
    }
   ],
   "source": [
    "df.info()"
   ]
  },
  {
   "cell_type": "code",
   "execution_count": 20,
   "id": "b269c33d",
   "metadata": {},
   "outputs": [
    {
     "data": {
      "text/html": [
       "<div>\n",
       "<style scoped>\n",
       "    .dataframe tbody tr th:only-of-type {\n",
       "        vertical-align: middle;\n",
       "    }\n",
       "\n",
       "    .dataframe tbody tr th {\n",
       "        vertical-align: top;\n",
       "    }\n",
       "\n",
       "    .dataframe thead th {\n",
       "        text-align: right;\n",
       "    }\n",
       "</style>\n",
       "<table border=\"1\" class=\"dataframe\">\n",
       "  <thead>\n",
       "    <tr style=\"text-align: right;\">\n",
       "      <th></th>\n",
       "      <th>Entregue - Liq Abatimento</th>\n",
       "      <th>Qtd Entregue</th>\n",
       "    </tr>\n",
       "  </thead>\n",
       "  <tbody>\n",
       "    <tr>\n",
       "      <th>0</th>\n",
       "      <td>0.00</td>\n",
       "      <td>0.0</td>\n",
       "    </tr>\n",
       "    <tr>\n",
       "      <th>1</th>\n",
       "      <td>0.00</td>\n",
       "      <td>0.0</td>\n",
       "    </tr>\n",
       "    <tr>\n",
       "      <th>2</th>\n",
       "      <td>0.00</td>\n",
       "      <td>0.0</td>\n",
       "    </tr>\n",
       "    <tr>\n",
       "      <th>3</th>\n",
       "      <td>5386.33</td>\n",
       "      <td>64.0</td>\n",
       "    </tr>\n",
       "    <tr>\n",
       "      <th>4</th>\n",
       "      <td>25947.19</td>\n",
       "      <td>352.0</td>\n",
       "    </tr>\n",
       "    <tr>\n",
       "      <th>...</th>\n",
       "      <td>...</td>\n",
       "      <td>...</td>\n",
       "    </tr>\n",
       "    <tr>\n",
       "      <th>85797</th>\n",
       "      <td>0.00</td>\n",
       "      <td>0.0</td>\n",
       "    </tr>\n",
       "    <tr>\n",
       "      <th>85798</th>\n",
       "      <td>0.00</td>\n",
       "      <td>0.0</td>\n",
       "    </tr>\n",
       "    <tr>\n",
       "      <th>85799</th>\n",
       "      <td>0.00</td>\n",
       "      <td>0.0</td>\n",
       "    </tr>\n",
       "    <tr>\n",
       "      <th>85800</th>\n",
       "      <td>0.00</td>\n",
       "      <td>0.0</td>\n",
       "    </tr>\n",
       "    <tr>\n",
       "      <th>85801</th>\n",
       "      <td>0.00</td>\n",
       "      <td>0.0</td>\n",
       "    </tr>\n",
       "  </tbody>\n",
       "</table>\n",
       "<p>85802 rows × 2 columns</p>\n",
       "</div>"
      ],
      "text/plain": [
       "       Entregue - Liq Abatimento  Qtd Entregue\n",
       "0                           0.00           0.0\n",
       "1                           0.00           0.0\n",
       "2                           0.00           0.0\n",
       "3                        5386.33          64.0\n",
       "4                       25947.19         352.0\n",
       "...                          ...           ...\n",
       "85797                       0.00           0.0\n",
       "85798                       0.00           0.0\n",
       "85799                       0.00           0.0\n",
       "85800                       0.00           0.0\n",
       "85801                       0.00           0.0\n",
       "\n",
       "[85802 rows x 2 columns]"
      ]
     },
     "execution_count": 20,
     "metadata": {},
     "output_type": "execute_result"
    }
   ],
   "source": [
    "df_filter = df.filter([\"Entregue - Liq Abatimento\", \"Qtd Entregue\"])\n",
    "df_filter"
   ]
  },
  {
   "cell_type": "markdown",
   "id": "eb3c3cfa",
   "metadata": {},
   "source": [
    "- Calcular média, mediana, desvio padrão, quartis, percentis, assimetria, moda, correlação\n"
   ]
  },
  {
   "cell_type": "code",
   "execution_count": 38,
   "id": "bfadc747",
   "metadata": {},
   "outputs": [
    {
     "data": {
      "text/plain": [
       "Entregue - Liq Abatimento    314618.163917\n",
       "Qtd Entregue                  29613.500863\n",
       "dtype: float64"
      ]
     },
     "execution_count": 38,
     "metadata": {},
     "output_type": "execute_result"
    }
   ],
   "source": [
    "df_filter.mean()"
   ]
  },
  {
   "cell_type": "code",
   "execution_count": 39,
   "id": "1f8d2a7c",
   "metadata": {},
   "outputs": [
    {
     "data": {
      "text/plain": [
       "Entregue - Liq Abatimento    45363.645\n",
       "Qtd Entregue                  2227.500\n",
       "dtype: float64"
      ]
     },
     "execution_count": 39,
     "metadata": {},
     "output_type": "execute_result"
    }
   ],
   "source": [
    "df_filter.median()"
   ]
  },
  {
   "cell_type": "code",
   "execution_count": 40,
   "id": "5e6f9db6",
   "metadata": {},
   "outputs": [
    {
     "data": {
      "text/plain": [
       "Entregue - Liq Abatimento    904233.471659\n",
       "Qtd Entregue                 106013.858062\n",
       "dtype: float64"
      ]
     },
     "execution_count": 40,
     "metadata": {},
     "output_type": "execute_result"
    }
   ],
   "source": [
    "df_filter.std()"
   ]
  },
  {
   "cell_type": "code",
   "execution_count": 54,
   "id": "6c6989e5",
   "metadata": {},
   "outputs": [
    {
     "data": {
      "text/html": [
       "<div>\n",
       "<style scoped>\n",
       "    .dataframe tbody tr th:only-of-type {\n",
       "        vertical-align: middle;\n",
       "    }\n",
       "\n",
       "    .dataframe tbody tr th {\n",
       "        vertical-align: top;\n",
       "    }\n",
       "\n",
       "    .dataframe thead th {\n",
       "        text-align: right;\n",
       "    }\n",
       "</style>\n",
       "<table border=\"1\" class=\"dataframe\">\n",
       "  <thead>\n",
       "    <tr style=\"text-align: right;\">\n",
       "      <th></th>\n",
       "      <th>Entregue - Liq Abatimento</th>\n",
       "      <th>Qtd Entregue</th>\n",
       "    </tr>\n",
       "  </thead>\n",
       "  <tbody>\n",
       "    <tr>\n",
       "      <th>0.25</th>\n",
       "      <td>3131.5000</td>\n",
       "      <td>120.0</td>\n",
       "    </tr>\n",
       "    <tr>\n",
       "      <th>0.50</th>\n",
       "      <td>45363.6450</td>\n",
       "      <td>2227.5</td>\n",
       "    </tr>\n",
       "    <tr>\n",
       "      <th>0.75</th>\n",
       "      <td>256818.3675</td>\n",
       "      <td>17970.0</td>\n",
       "    </tr>\n",
       "  </tbody>\n",
       "</table>\n",
       "</div>"
      ],
      "text/plain": [
       "      Entregue - Liq Abatimento  Qtd Entregue\n",
       "0.25                  3131.5000         120.0\n",
       "0.50                 45363.6450        2227.5\n",
       "0.75                256818.3675       17970.0"
      ]
     },
     "execution_count": 54,
     "metadata": {},
     "output_type": "execute_result"
    }
   ],
   "source": [
    "quartis = df_filter.quantile([0.25, 0.5, 0.75])  #0.5 = mediana\n",
    "quartis"
   ]
  },
  {
   "cell_type": "code",
   "execution_count": 62,
   "id": "bd8279b1",
   "metadata": {},
   "outputs": [
    {
     "data": {
      "text/plain": [
       "Entregue - Liq Abatimento    253686.8675\n",
       "Qtd Entregue                  17850.0000\n",
       "Name: 0.75, dtype: float64"
      ]
     },
     "execution_count": 62,
     "metadata": {},
     "output_type": "execute_result"
    }
   ],
   "source": [
    "#intervalo interquartil\n",
    "IQR_df = df_filter.quantile([0.25, 0.75])\n",
    "\n",
    "IQR = IQR_df.diff().iloc[1]\n",
    "IQR"
   ]
  },
  {
   "cell_type": "code",
   "execution_count": 64,
   "id": "154f13c3",
   "metadata": {},
   "outputs": [
    {
     "data": {
      "text/plain": [
       "Entregue - Liq Abatimento    10.726830\n",
       "Qtd Entregue                 12.760895\n",
       "dtype: float64"
      ]
     },
     "execution_count": 64,
     "metadata": {},
     "output_type": "execute_result"
    }
   ],
   "source": [
    "#Assimetria   - Assimetria - distribuição com cauda à direita\n",
    "\n",
    "ass = df_filter.skew()   \n",
    "ass"
   ]
  },
  {
   "cell_type": "code",
   "execution_count": 69,
   "id": "bb90ef37",
   "metadata": {},
   "outputs": [
    {
     "data": {
      "text/plain": [
       "Entregue - Liq Abatimento    0.0\n",
       "Qtd Entregue                 0.0\n",
       "Name: 0, dtype: float64"
      ]
     },
     "execution_count": 69,
     "metadata": {},
     "output_type": "execute_result"
    }
   ],
   "source": [
    "# Moda\n",
    "\n",
    "moda = df_filter.mode().iloc[0]\n",
    "moda\n"
   ]
  },
  {
   "cell_type": "markdown",
   "id": "39c47422",
   "metadata": {},
   "source": [
    "    correlação\n",
    "    - Identificar os outliers\n",
    "    - Criar gráficos para fazer a visualização dos dados"
   ]
  },
  {
   "cell_type": "code",
   "execution_count": 6,
   "id": "17526173",
   "metadata": {},
   "outputs": [
    {
     "name": "stderr",
     "output_type": "stream",
     "text": [
      "C:\\Users\\diullio.santos\\AppData\\Local\\Temp\\ipykernel_6180\\3927726266.py:6: UserWarning: \n",
      "\n",
      "`distplot` is a deprecated function and will be removed in seaborn v0.14.0.\n",
      "\n",
      "Please adapt your code to use either `displot` (a figure-level function with\n",
      "similar flexibility) or `histplot` (an axes-level function for histograms).\n",
      "\n",
      "For a guide to updating your code to use the new functions, please see\n",
      "https://gist.github.com/mwaskom/de44147ed2974457ad6372750bbe5751\n",
      "\n",
      "  plot = sn.distplot((df[\"Entregue - Liq Abatimento\"]/max(df[\"Entregue - Liq Abatimento\"])),color='purple')\n"
     ]
    },
    {
     "data": {
      "image/png": "[encoded data removed]",
      "text/plain": [
       "<Figure size 640x480 with 1 Axes>"
      ]
     },
     "metadata": {},
     "output_type": "display_data"
    }
   ],
   "source": [
    "import numpy as np\n",
    "import seaborn as sn\n",
    "import matplotlib.pyplot as plt\n",
    "\n",
    "sn.set(style='dark',)\n",
    "plot = sn.distplot((df[\"Entregue - Liq Abatimento\"]/max(df[\"Entregue - Liq Abatimento\"])),color='purple')\n",
    "plt.xlim([-0.1, 0.2])\n",
    "\n",
    "plt.show()"
   ]
  },
  {
   "cell_type": "code",
   "execution_count": 26,
   "id": "120389ba",
   "metadata": {},
   "outputs": [
    {
     "name": "stderr",
     "output_type": "stream",
     "text": [
      "C:\\Users\\diullio.santos\\AppData\\Local\\Temp\\ipykernel_6180\\4117121299.py:2: UserWarning: \n",
      "\n",
      "`distplot` is a deprecated function and will be removed in seaborn v0.14.0.\n",
      "\n",
      "Please adapt your code to use either `displot` (a figure-level function with\n",
      "similar flexibility) or `histplot` (an axes-level function for histograms).\n",
      "\n",
      "For a guide to updating your code to use the new functions, please see\n",
      "https://gist.github.com/mwaskom/de44147ed2974457ad6372750bbe5751\n",
      "\n",
      "  plot = sn.distplot((df[\"Qtd Entregue\"]/max(df[\"Qtd Entregue\"])),color='purple')\n"
     ]
    },
    {
     "data": {
      "image/png": "[encoded data removed]",
      "text/plain": [
       "<Figure size 640x480 with 1 Axes>"
      ]
     },
     "metadata": {},
     "output_type": "display_data"
    }
   ],
   "source": [
    "sn.set(style='dark',)\n",
    "plot = sn.distplot((df[\"Qtd Entregue\"]/max(df[\"Qtd Entregue\"])),color='purple')\n",
    "plt.xlim([-0.1, 0.2])\n",
    "\n",
    "plt.show()"
   ]
  },
  {
   "cell_type": "code",
   "execution_count": 9,
   "id": "89a598ac",
   "metadata": {},
   "outputs": [
    {
     "data": {
      "image/png": "[encoded data removed]",
      "text/plain": [
       "<Figure size 640x480 with 1 Axes>"
      ]
     },
     "metadata": {},
     "output_type": "display_data"
    }
   ],
   "source": [
    "# Plotar o gráfico de boxplot\n",
    "sn.boxplot(data=df[\"Entregue - Liq Abatimento\"])\n",
    "\n",
    "# Exibir o gráfico\n",
    "plt.show()"
   ]
  },
  {
   "cell_type": "code",
   "execution_count": 10,
   "id": "98c6a9c4",
   "metadata": {},
   "outputs": [
    {
     "data": {
      "image/png": "[encoded data removed]",
      "text/plain": [
       "<Figure size 640x480 with 1 Axes>"
      ]
     },
     "metadata": {},
     "output_type": "display_data"
    }
   ],
   "source": [
    "# Plotar o gráfico de boxplot\n",
    "sn.boxplot(data=df[\"Qtd Entregue\"])\n",
    "\n",
    "# Exibir o gráfico\n",
    "plt.show()"
   ]
  },
  {
   "cell_type": "code",
   "execution_count": 22,
   "id": "7c79d3a3",
   "metadata": {},
   "outputs": [
    {
     "data": {
      "text/html": [
       "<div>\n",
       "<style scoped>\n",
       "    .dataframe tbody tr th:only-of-type {\n",
       "        vertical-align: middle;\n",
       "    }\n",
       "\n",
       "    .dataframe tbody tr th {\n",
       "        vertical-align: top;\n",
       "    }\n",
       "\n",
       "    .dataframe thead th {\n",
       "        text-align: right;\n",
       "    }\n",
       "</style>\n",
       "<table border=\"1\" class=\"dataframe\">\n",
       "  <thead>\n",
       "    <tr style=\"text-align: right;\">\n",
       "      <th></th>\n",
       "      <th>Entregue - Liq Abatimento</th>\n",
       "      <th>Qtd Entregue</th>\n",
       "    </tr>\n",
       "  </thead>\n",
       "  <tbody>\n",
       "    <tr>\n",
       "      <th>Entregue - Liq Abatimento</th>\n",
       "      <td>1.000000</td>\n",
       "      <td>0.577271</td>\n",
       "    </tr>\n",
       "    <tr>\n",
       "      <th>Qtd Entregue</th>\n",
       "      <td>0.577271</td>\n",
       "      <td>1.000000</td>\n",
       "    </tr>\n",
       "  </tbody>\n",
       "</table>\n",
       "</div>"
      ],
      "text/plain": [
       "                           Entregue - Liq Abatimento  Qtd Entregue\n",
       "Entregue - Liq Abatimento                   1.000000      0.577271\n",
       "Qtd Entregue                                0.577271      1.000000"
      ]
     },
     "execution_count": 22,
     "metadata": {},
     "output_type": "execute_result"
    }
   ],
   "source": [
    "df_filter.corr()"
   ]
  },
  {
   "cell_type": "code",
   "execution_count": 23,
   "id": "80844be4",
   "metadata": {},
   "outputs": [
    {
     "data": {
      "text/plain": [
       "<AxesSubplot: >"
      ]
     },
     "execution_count": 23,
     "metadata": {},
     "output_type": "execute_result"
    },
    {
     "data": {
      "image/png": "[encoded data removed]",
      "text/plain": [
       "<Figure size 640x480 with 2 Axes>"
      ]
     },
     "metadata": {},
     "output_type": "display_data"
    }
   ],
   "source": [
    "sn.heatmap(df_filter.corr(), annot=True, cmap='seismic')"
   ]
  },
  {
   "cell_type": "code",
   "execution_count": 40,
   "id": "584c29c9",
   "metadata": {},
   "outputs": [
    {
     "data": {
      "image/png": "[encoded data removed]",
      "text/plain": [
       "<Figure size 1200x600 with 1 Axes>"
      ]
     },
     "metadata": {},
     "output_type": "display_data"
    }
   ],
   "source": [
    "# Define o tamanho da figura\n",
    "plt.figure(figsize=(12, 6))\n",
    "\n",
    "# Define o Titulo\n",
    "plt.title(\"Distribuição das vendas\", size=18)\n",
    "\n",
    "# Plot do Histograma\n",
    "sn.histplot(df[\"Entregue - Liq Abatimento\"], kde=True, alpha=0.2)\n",
    "\n",
    "# plotando média: linha horizontal\n",
    "plt.axvline(x=df[\"Entregue - Liq Abatimento\"].mean(), color=\"red\", label=\"média\")\n",
    "\n",
    "# plotando a mediana\n",
    "plt.axvline(df[\"Entregue - Liq Abatimento\"].median(), color=\"green\", label=\"mediana\")\n",
    "\n",
    "# Loop para plotar as modas\n",
    "for i in range(df[\"Entregue - Liq Abatimento\"].mode().shape[0]):\n",
    "    plt.axvline(df[\"Entregue - Liq Abatimento\"].mode()[i], color=\"yellow\", label=\"moda\")\n",
    "\n",
    "plt.xlim([-2000000, 6000000])\n",
    "plt.ylim([0, 3000])\n",
    "\n",
    "# Cria uma legenda\n",
    "plt.legend()\n",
    "\n",
    "# Mostra o Gráfico\n",
    "plt.show()"
   ]
  },
  {
   "cell_type": "markdown",
   "id": "407aaf95",
   "metadata": {},
   "source": [
    "Conclusão: Por se tratar de um dataset de vendas por clientes, a estatistica dos dados gerais são bem assimetricas, não existindo um padrão. Para uma analise mais detalhada, devemos analisar especificamente os 515 clientes, ou agrupados por região para verificar se existe algum padrão de compra."
   ]
  }
 ],
 "metadata": {
  "kernelspec": {
   "display_name": "Python 3 (ipykernel)",
   "language": "python",
   "name": "python3"
  },
  "language_info": {
   "codemirror_mode": {
    "name": "ipython",
    "version": 3
   },
   "file_extension": ".py",
   "mimetype": "text/x-python",
   "name": "python",
   "nbconvert_exporter": "python",
   "pygments_lexer": "ipython3",
   "version": "3.9.16"
  },
  "varInspector": {
   "cols": {
    "lenName": 16,
    "lenType": 16,
    "lenVar": 40
   },
   "kernels_config": {
    "python": {
     "delete_cmd_postfix": "",
     "delete_cmd_prefix": "del ",
     "library": "var_list.py",
     "varRefreshCmd": "print(var_dic_list())"
    },
    "r": {
     "delete_cmd_postfix": ") ",
     "delete_cmd_prefix": "rm(",
     "library": "var_list.r",
     "varRefreshCmd": "cat(var_dic_list()) "
    }
   },
   "types_to_exclude": [
    "module",
    "function",
    "builtin_function_or_method",
    "instance",
    "_Feature"
   ],
   "window_display": false
  }
 },
 "nbformat": 4,
 "nbformat_minor": 5
}
