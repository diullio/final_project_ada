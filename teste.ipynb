{
 "cells": [
  {
   "cell_type": "code",
   "execution_count": 24,
   "metadata": {},
   "outputs": [],
   "source": [
    "import numpy as np\n",
    "import pandas as pd\n",
    "from datetime import datetime\n",
    "import math\n"
   ]
  },
  {
   "cell_type": "code",
   "execution_count": 80,
   "metadata": {},
   "outputs": [],
   "source": [
    "df = pd.read_excel(\"rfv_analise.xlsx\")\n",
    "bu = pd.read_csv(\"bu.csv\")\n",
    "df[\"BU\"].unique()\n",
    "df[\"BU New\"].unique()\n",
    "df['BU-TESTE'] = df['BU'] + ' - ' + df['BU New']\n",
    "bu['BU-TESTE'] = bu['BU'] + ' - ' + bu['BU New']\n",
    "df[\"BU_DATA\"] = df[\"BU-TESTE\"].map(bu.set_index(\"BU-TESTE\")[\"BU-RFV\"])\n",
    "df['rede_uf'] = df['Rede'] + ' - ' + df['UF']\n",
    "df = df[df[\"Qtd Entregue\"] > 0]\n",
    "df = df.drop([\"Rede\", \"UF\", \"BU\", \"BU New\", ], axis=1)\n",
    "meses = {'JANEIRO': '01', 'FEVEREIRO': '02', 'MARÇO': '03', 'ABRIL': '04',\n",
    " 'MAIO': '05', 'JUNHO': '06', 'JULHO': '07', 'AGOSTO': '08',\n",
    " 'SETEMBRO': '09', 'OUTUBRO': '10', 'NOVEMBRO': '11', 'DEZEMBRO': '12'}\n",
    "df['mes_numero'] = df['Mês'].map(meses)\n",
    "df['data'] = pd.to_datetime(df['Ano'].astype(str) + '-' + df['mes_numero'], format=\"%Y-%m\")\n",
    "df = df.drop([\"Ano\", \"Trimestre\", \"Mês\"], axis=1)\n",
    "df = df.drop([\"mes_numero\", \"BU-TESTE\"], axis=1)\n",
    "ultima_compra = df.groupby(\"rede_uf\")[\"data\"].max().reset_index()\n",
    "ultima_compra = ultima_compra.rename(columns={'data': 'recencia'})\n",
    "df = pd.merge(df, ultima_compra, on = \"rede_uf\", how = \"left\")\n",
    "# data_maxima = df['data'].max()\n",
    "data_atual = pd.to_datetime(datetime.now().date().replace(day=1))\n",
    "# df[\"recencia_valor\"] = (data_maxima - df[\"recencia\"]).dt.days\n",
    "df[\"recencia_valor\"] = (data_atual - df[\"recencia\"]).dt.days\n",
    "def converter_meses(recencia):\n",
    "    return math.floor(recencia / 30)\n",
    "df[\"recencia_valor\"] = df[\"recencia_valor\"].apply(converter_meses)\n",
    "df = df.drop(\"recencia\", axis=1)\n",
    "df['frequencia'] = df.groupby('rede_uf')['rede_uf'].transform('count')\n",
    "df[\"valor\"] = df[\"Entregue - Liq Abatimento\"]\n",
    "df = df.drop([\"Entregue - Liq Abatimento\",\"Qtd Entregue\"], axis=1)\n",
    "df = df.rename(columns={'Canal VD-VI-Hosp': 'canal'})\n",
    "df = df.drop(\"data\", axis=1)\n",
    "df = df.groupby(['canal', 'rede_uf']).agg({\n",
    "    'recencia_valor': 'max',\n",
    "    'frequencia': 'max',\n",
    "    'valor': 'sum'\n",
    "}).reset_index()\n",
    "df[\"valor/freq\"] = df[\"valor\"]/df[\"frequencia\"]\n",
    "df = df.drop(\"valor\", axis=1)\n",
    "df = df.rename(columns={'recencia_valor': 'recencia', 'valor/freq': 'valor'})\n",
    "df = df.set_index('rede_uf')"
   ]
  },
  {
   "cell_type": "code",
   "execution_count": 85,
   "metadata": {},
   "outputs": [],
   "source": [
    "df_alimentar = df.loc[df['canal'] == 'ALIMENTAR']\n",
    "df_ecommerce = df.loc[df['canal'] == 'E-COMMERCE']\n",
    "df_hospitalar = df.loc[df['canal'] == 'HOSPITALAR']\n",
    "df_varejo_direto = df.loc[df['canal'] == 'VAREJO DIRETO']\n",
    "df_varejo_indireto = df.loc[df['canal'] == 'VAREJO INDIRETO']\n",
    "        "
   ]
  },
  {
   "cell_type": "code",
   "execution_count": 89,
   "metadata": {},
   "outputs": [],
   "source": [
    "def mapear_score(recencia):\n",
    "    mapeamento = {12: 5, 24: 4, 36: 3, 48: 2}\n",
    "    for limite, score in mapeamento.items():\n",
    "        if recencia < limite:\n",
    "            return score\n",
    "    return 1"
   ]
  },
  {
   "cell_type": "code",
   "execution_count": 91,
   "metadata": {},
   "outputs": [],
   "source": [
    "def indice_RFV(df):\n",
    "    df = df.sort_values('frequencia', ascending=False)\n",
    "    df['Score_Freq'] = pd.qcut(df['frequencia'], q=5, labels=False) + 1\n",
    "    df = df.sort_values('valor', ascending=False)\n",
    "    df['Score_Valor'] = pd.qcut(df['valor'], q=5, labels=False) + 1\n",
    "    # Aplicar a função de mapeamento na coluna \"recencia\"\n",
    "    df['score_recencia'] = df['recencia'].apply(mapear_score)\n",
    "    return df"
   ]
  },
  {
   "cell_type": "code",
   "execution_count": 94,
   "metadata": {},
   "outputs": [],
   "source": [
    "df = indice_RFV(df)\n",
    "df_alimentar = indice_RFV(df_alimentar)\n",
    "df_hospitalar = indice_RFV(df_hospitalar)\n",
    "df_varejo_direto = indice_RFV(df_varejo_direto)\n",
    "df_varejo_indireto = indice_RFV(df_varejo_indireto)"
   ]
  }
 ],
 "metadata": {
  "interpreter": {
   "hash": "1b6bae7afadab51495ca45180def891d057313600861c2787fb840a8ea2c8fb4"
  },
  "kernelspec": {
   "display_name": "Python 3.8.16 ('ds-3.8')",
   "language": "python",
   "name": "python3"
  },
  "language_info": {
   "codemirror_mode": {
    "name": "ipython",
    "version": 3
   },
   "file_extension": ".py",
   "mimetype": "text/x-python",
   "name": "python",
   "nbconvert_exporter": "python",
   "pygments_lexer": "ipython3",
   "version": "3.8.16"
  },
  "orig_nbformat": 4
 },
 "nbformat": 4,
 "nbformat_minor": 2
}
