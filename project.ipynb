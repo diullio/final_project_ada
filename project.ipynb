{
 "cells": [
  {
   "cell_type": "code",
   "execution_count": 1,
   "metadata": {},
   "outputs": [],
   "source": [
    "from data_analysis import data_analysis\n",
    "from sql import BD\n",
    "from datetime import datetime\n",
    "import pandas as pd"
   ]
  },
  {
   "cell_type": "code",
   "execution_count": 2,
   "metadata": {},
   "outputs": [],
   "source": [
    "class project():\n",
    "    def __init__(self):\n",
    "        self.data = data_analysis()\n",
    "        self.bd = BD()       \n",
    "\n",
    "    def gerar_df(self):\n",
    "        df = self.data.read_file()\n",
    "        # df_alimentar, df_ecommerce, df_hospitalar, df_varejo_direto, df_varejo_indireto = self.data.fracionar_df(df)\n",
    "        df_rfv = self.data.indice_RFV(df)\n",
    "        df_rfv['score'] = df_rfv[['score_recencia', 'Score_Freq', 'Score_Valor']].astype(str).apply(''.join, axis=1)\n",
    "        df_rfv['score'] = df_rfv['score'].astype(int)\n",
    "        return df_rfv\n",
    "       \n",
    "    def update_BD(self, df):\n",
    "        self.bd.abrirConexao()\n",
    "        date = datetime.now().replace(day=1).strftime('%Y-%m-%d')\n",
    "        for _, row in df.iterrows():\n",
    "            rede_uf = row['rede_uf']\n",
    "            uf = row['UF']\n",
    "            canal = row['canal']\n",
    "            recencia = row['recencia']\n",
    "            frequencia = row['frequencia']\n",
    "            valor = row['valor']\n",
    "            score_frequencia = row['Score_Freq']\n",
    "            score_valor = row['Score_Valor']\n",
    "            score_recencia = row['score_recencia']\n",
    "            score = row['score']\n",
    "            self.bd.updateorinsertDados(date, rede_uf, uf, canal, recencia, frequencia, valor, score_frequencia, score_valor, score_recencia, score)\n",
    "        print('Inserção concluida com sucesso')\n",
    "        self.bd.closeConexao\n"
   ]
  },
  {
   "cell_type": "code",
   "execution_count": 3,
   "metadata": {},
   "outputs": [],
   "source": [
    "run = project()"
   ]
  },
  {
   "cell_type": "code",
   "execution_count": 4,
   "metadata": {},
   "outputs": [
    {
     "name": "stdout",
     "output_type": "stream",
     "text": [
      "Inserção concluida com sucesso\n"
     ]
    }
   ],
   "source": [
    "df = run.gerar_df()\n",
    "run.update_BD(df)"
   ]
  }
 ],
 "metadata": {
  "interpreter": {
   "hash": "1b6bae7afadab51495ca45180def891d057313600861c2787fb840a8ea2c8fb4"
  },
  "kernelspec": {
   "display_name": "Python 3.8.16 ('ds-3.8')",
   "language": "python",
   "name": "python3"
  },
  "language_info": {
   "codemirror_mode": {
    "name": "ipython",
    "version": 3
   },
   "file_extension": ".py",
   "mimetype": "text/x-python",
   "name": "python",
   "nbconvert_exporter": "python",
   "pygments_lexer": "ipython3",
   "version": "3.8.16"
  },
  "orig_nbformat": 4
 },
 "nbformat": 4,
 "nbformat_minor": 2
}
